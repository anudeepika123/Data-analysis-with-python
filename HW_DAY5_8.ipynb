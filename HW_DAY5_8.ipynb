{
  "nbformat": 4,
  "nbformat_minor": 0,
  "metadata": {
    "colab": {
      "provenance": []
    },
    "kernelspec": {
      "name": "python3",
      "display_name": "Python 3"
    },
    "language_info": {
      "name": "python"
    }
  },
  "cells": [
    {
      "cell_type": "code",
      "execution_count": null,
      "metadata": {
        "colab": {
          "base_uri": "https://localhost:8080/"
        },
        "id": "jaRjPiE0BxZj",
        "outputId": "c50c37f1-b170-4d01-df87-eb5c452dc1ad"
      },
      "outputs": [
        {
          "output_type": "stream",
          "name": "stdout",
          "text": [
            "{'errors': [{'message': 'Syntax Error: Expected Name, found <EOF>.', 'extensions': {'code': 'GRAPHQL_PARSE_FAILED', 'exception': {'stacktrace': ['GraphQLError: Syntax Error: Expected Name, found <EOF>.', '    at syntaxError (/var/task/node_modules/graphql/error/syntaxError.js:15:10)', '    at Parser.expectToken (/var/task/node_modules/graphql/language/parser.js:1413:40)', '    at Parser.parseName (/var/task/node_modules/graphql/language/parser.js:107:24)', '    at Parser.parseField (/var/task/node_modules/graphql/language/parser.js:346:30)', '    at Parser.parseSelection (/var/task/node_modules/graphql/language/parser.js:336:14)', '    at Parser.many (/var/task/node_modules/graphql/language/parser.js:1529:26)', '    at Parser.parseSelectionSet (/var/task/node_modules/graphql/language/parser.js:319:24)', '    at Parser.parseOperationDefinition (/var/task/node_modules/graphql/language/parser.js:247:26)', '    at Parser.parseDefinition (/var/task/node_modules/graphql/language/parser.js:201:23)', '    at Parser.many (/var/task/node_modules/graphql/language/parser.js:1529:26)']}}}]}\n"
          ]
        }
      ],
      "source": [
        "import requests\n",
        "\n",
        "url = \"https://advanced-exercise-finder.p.rapidapi.com/\"\n",
        "\n",
        "payload = { \"query\": \"query MyQuery {__typename ## Placeholder value}\" }\n",
        "headers = {\n",
        "\t\"x-rapidapi-key\": \"8fc47006d2msh6fe2f80fe56e7b4p1d5a95jsn6b429408d29f\",\n",
        "\t\"x-rapidapi-host\": \"advanced-exercise-finder.p.rapidapi.com\",\n",
        "\t\"Content-Type\": \"application/json\"\n",
        "}\n",
        "\n",
        "response = requests.post(url, json=payload, headers=headers)\n",
        "\n",
        "print(response.json())"
      ]
    },
    {
      "cell_type": "code",
      "source": [
        "import requests\n",
        "\n",
        "url = \"https://google-translate1.p.rapidapi.com/language/translate/v2\"\n",
        "\n",
        "payload = {\n",
        "\t\"q\": \"welcome to team 3\",\n",
        "\t\"target\": \"ta\",\n",
        "\t\"source\": \"en\"\n",
        "}\n",
        "headers = {\n",
        "\t\"content-type\": \"application/x-www-form-urlencoded\",\n",
        "\t\"Accept-Encoding\": \"application/gzip\",\n",
        "\t\"X-RapidAPI-Key\": \"8fc47006d2msh6fe2f80fe56e7b4p1d5a95jsn6b429408d29f\",\n",
        "\t\"X-RapidAPI-Host\": \"google-translate1.p.rapidapi.com\"\n",
        "}\n",
        "\n",
        "response = requests.post(url, data=payload, headers=headers)\n",
        "\n",
        "print(response.json())"
      ],
      "metadata": {
        "colab": {
          "base_uri": "https://localhost:8080/"
        },
        "id": "Ic_-Duu4--TP",
        "outputId": "b417e84a-461b-4995-bae2-4f80ab87a177"
      },
      "execution_count": null,
      "outputs": [
        {
          "output_type": "stream",
          "name": "stdout",
          "text": [
            "{'data': {'translations': [{'translatedText': 'அணி 3 க்கு வரவேற்கிறோம்'}]}}\n"
          ]
        }
      ]
    }
  ]
}