{
  "nbformat": 4,
  "nbformat_minor": 0,
  "metadata": {
    "colab": {
      "provenance": []
    },
    "kernelspec": {
      "name": "python3",
      "display_name": "Python 3"
    },
    "language_info": {
      "name": "python"
    }
  },
  "cells": [
    {
      "cell_type": "code",
      "execution_count": null,
      "metadata": {
        "colab": {
          "base_uri": "https://localhost:8080/"
        },
        "id": "6_riRglOUP1Y",
        "outputId": "08a1ab82-a3bb-41cc-f68e-7f395dbb9d46"
      },
      "outputs": [
        {
          "output_type": "stream",
          "name": "stdout",
          "text": [
            "Requirement already satisfied: tensorflow in /usr/local/lib/python3.10/dist-packages (2.15.0)\n",
            "Requirement already satisfied: absl-py>=1.0.0 in /usr/local/lib/python3.10/dist-packages (from tensorflow) (1.4.0)\n",
            "Requirement already satisfied: astunparse>=1.6.0 in /usr/local/lib/python3.10/dist-packages (from tensorflow) (1.6.3)\n",
            "Requirement already satisfied: flatbuffers>=23.5.26 in /usr/local/lib/python3.10/dist-packages (from tensorflow) (23.5.26)\n",
            "Requirement already satisfied: gast!=0.5.0,!=0.5.1,!=0.5.2,>=0.2.1 in /usr/local/lib/python3.10/dist-packages (from tensorflow) (0.5.4)\n",
            "Requirement already satisfied: google-pasta>=0.1.1 in /usr/local/lib/python3.10/dist-packages (from tensorflow) (0.2.0)\n",
            "Requirement already satisfied: h5py>=2.9.0 in /usr/local/lib/python3.10/dist-packages (from tensorflow) (3.9.0)\n",
            "Requirement already satisfied: libclang>=13.0.0 in /usr/local/lib/python3.10/dist-packages (from tensorflow) (16.0.6)\n",
            "Requirement already satisfied: ml-dtypes~=0.2.0 in /usr/local/lib/python3.10/dist-packages (from tensorflow) (0.2.0)\n",
            "Requirement already satisfied: numpy<2.0.0,>=1.23.5 in /usr/local/lib/python3.10/dist-packages (from tensorflow) (1.25.2)\n",
            "Requirement already satisfied: opt-einsum>=2.3.2 in /usr/local/lib/python3.10/dist-packages (from tensorflow) (3.3.0)\n",
            "Requirement already satisfied: packaging in /usr/local/lib/python3.10/dist-packages (from tensorflow) (23.2)\n",
            "Requirement already satisfied: protobuf!=4.21.0,!=4.21.1,!=4.21.2,!=4.21.3,!=4.21.4,!=4.21.5,<5.0.0dev,>=3.20.3 in /usr/local/lib/python3.10/dist-packages (from tensorflow) (3.20.3)\n",
            "Requirement already satisfied: setuptools in /usr/local/lib/python3.10/dist-packages (from tensorflow) (67.7.2)\n",
            "Requirement already satisfied: six>=1.12.0 in /usr/local/lib/python3.10/dist-packages (from tensorflow) (1.16.0)\n",
            "Requirement already satisfied: termcolor>=1.1.0 in /usr/local/lib/python3.10/dist-packages (from tensorflow) (2.4.0)\n",
            "Requirement already satisfied: typing-extensions>=3.6.6 in /usr/local/lib/python3.10/dist-packages (from tensorflow) (4.10.0)\n",
            "Requirement already satisfied: wrapt<1.15,>=1.11.0 in /usr/local/lib/python3.10/dist-packages (from tensorflow) (1.14.1)\n",
            "Requirement already satisfied: tensorflow-io-gcs-filesystem>=0.23.1 in /usr/local/lib/python3.10/dist-packages (from tensorflow) (0.36.0)\n",
            "Requirement already satisfied: grpcio<2.0,>=1.24.3 in /usr/local/lib/python3.10/dist-packages (from tensorflow) (1.62.0)\n",
            "Requirement already satisfied: tensorboard<2.16,>=2.15 in /usr/local/lib/python3.10/dist-packages (from tensorflow) (2.15.2)\n",
            "Requirement already satisfied: tensorflow-estimator<2.16,>=2.15.0 in /usr/local/lib/python3.10/dist-packages (from tensorflow) (2.15.0)\n",
            "Requirement already satisfied: keras<2.16,>=2.15.0 in /usr/local/lib/python3.10/dist-packages (from tensorflow) (2.15.0)\n",
            "Requirement already satisfied: wheel<1.0,>=0.23.0 in /usr/local/lib/python3.10/dist-packages (from astunparse>=1.6.0->tensorflow) (0.42.0)\n",
            "Requirement already satisfied: google-auth<3,>=1.6.3 in /usr/local/lib/python3.10/dist-packages (from tensorboard<2.16,>=2.15->tensorflow) (2.27.0)\n",
            "Requirement already satisfied: google-auth-oauthlib<2,>=0.5 in /usr/local/lib/python3.10/dist-packages (from tensorboard<2.16,>=2.15->tensorflow) (1.2.0)\n",
            "Requirement already satisfied: markdown>=2.6.8 in /usr/local/lib/python3.10/dist-packages (from tensorboard<2.16,>=2.15->tensorflow) (3.5.2)\n",
            "Requirement already satisfied: requests<3,>=2.21.0 in /usr/local/lib/python3.10/dist-packages (from tensorboard<2.16,>=2.15->tensorflow) (2.31.0)\n",
            "Requirement already satisfied: tensorboard-data-server<0.8.0,>=0.7.0 in /usr/local/lib/python3.10/dist-packages (from tensorboard<2.16,>=2.15->tensorflow) (0.7.2)\n",
            "Requirement already satisfied: werkzeug>=1.0.1 in /usr/local/lib/python3.10/dist-packages (from tensorboard<2.16,>=2.15->tensorflow) (3.0.1)\n",
            "Requirement already satisfied: cachetools<6.0,>=2.0.0 in /usr/local/lib/python3.10/dist-packages (from google-auth<3,>=1.6.3->tensorboard<2.16,>=2.15->tensorflow) (5.3.3)\n",
            "Requirement already satisfied: pyasn1-modules>=0.2.1 in /usr/local/lib/python3.10/dist-packages (from google-auth<3,>=1.6.3->tensorboard<2.16,>=2.15->tensorflow) (0.3.0)\n",
            "Requirement already satisfied: rsa<5,>=3.1.4 in /usr/local/lib/python3.10/dist-packages (from google-auth<3,>=1.6.3->tensorboard<2.16,>=2.15->tensorflow) (4.9)\n",
            "Requirement already satisfied: requests-oauthlib>=0.7.0 in /usr/local/lib/python3.10/dist-packages (from google-auth-oauthlib<2,>=0.5->tensorboard<2.16,>=2.15->tensorflow) (1.3.1)\n",
            "Requirement already satisfied: charset-normalizer<4,>=2 in /usr/local/lib/python3.10/dist-packages (from requests<3,>=2.21.0->tensorboard<2.16,>=2.15->tensorflow) (3.3.2)\n",
            "Requirement already satisfied: idna<4,>=2.5 in /usr/local/lib/python3.10/dist-packages (from requests<3,>=2.21.0->tensorboard<2.16,>=2.15->tensorflow) (3.6)\n",
            "Requirement already satisfied: urllib3<3,>=1.21.1 in /usr/local/lib/python3.10/dist-packages (from requests<3,>=2.21.0->tensorboard<2.16,>=2.15->tensorflow) (2.0.7)\n",
            "Requirement already satisfied: certifi>=2017.4.17 in /usr/local/lib/python3.10/dist-packages (from requests<3,>=2.21.0->tensorboard<2.16,>=2.15->tensorflow) (2024.2.2)\n",
            "Requirement already satisfied: MarkupSafe>=2.1.1 in /usr/local/lib/python3.10/dist-packages (from werkzeug>=1.0.1->tensorboard<2.16,>=2.15->tensorflow) (2.1.5)\n",
            "Requirement already satisfied: pyasn1<0.6.0,>=0.4.6 in /usr/local/lib/python3.10/dist-packages (from pyasn1-modules>=0.2.1->google-auth<3,>=1.6.3->tensorboard<2.16,>=2.15->tensorflow) (0.5.1)\n",
            "Requirement already satisfied: oauthlib>=3.0.0 in /usr/local/lib/python3.10/dist-packages (from requests-oauthlib>=0.7.0->google-auth-oauthlib<2,>=0.5->tensorboard<2.16,>=2.15->tensorflow) (3.2.2)\n"
          ]
        }
      ],
      "source": [
        "!pip install tensorflow"
      ]
    },
    {
      "cell_type": "code",
      "source": [
        "import numpy as np\n",
        "from keras.models import Sequential\n",
        "from keras.layers import SimpleRNN, Dense,Embedding\n",
        "from keras.preprocessing.text import Tokenizer\n",
        "from keras.preprocessing.sequence import pad_sequences\n",
        "from keras.utils import to_categorical"
      ],
      "metadata": {
        "id": "j1uazKgYUdbf"
      },
      "execution_count": null,
      "outputs": []
    },
    {
      "cell_type": "code",
      "source": [
        "#Generating some example of sequential data\n",
        "sentences=['I love learning','I love me','I love uma']"
      ],
      "metadata": {
        "id": "cHIrBvTWWXV6"
      },
      "execution_count": null,
      "outputs": []
    },
    {
      "cell_type": "code",
      "source": [
        "#tokenizing the words\n",
        "tokenizer=Tokenizer()\n",
        "tokenizer.fit_on_texts(sentences)\n",
        "total_words=len(tokenizer.word_index) + 1\n",
        "print(total_words)"
      ],
      "metadata": {
        "colab": {
          "base_uri": "https://localhost:8080/"
        },
        "id": "kb5tEnQCW2aX",
        "outputId": "dffa5ecd-f192-423e-99fc-f97f27320571"
      },
      "execution_count": null,
      "outputs": [
        {
          "output_type": "stream",
          "name": "stdout",
          "text": [
            "6\n"
          ]
        }
      ]
    },
    {
      "cell_type": "code",
      "source": [
        "# Creating input sequences and their corresponding next words\n",
        "input_sequences = []\n",
        "for sentence in sentences:\n",
        "    tokenized_sentence = tokenizer.texts_to_sequences([sentence])[0]\n",
        "    for i in range(1, len(tokenized_sentence)):\n",
        "        n_gram_sequence = tokenized_sentence[:i+1]\n",
        "        input_sequences.append(n_gram_sequence)\n",
        "input_sequences"
      ],
      "metadata": {
        "colab": {
          "base_uri": "https://localhost:8080/"
        },
        "id": "JnPmUn_4YZZX",
        "outputId": "4cd1fe7b-0b97-4fa8-c5b5-6b71ea8e2b96"
      },
      "execution_count": null,
      "outputs": [
        {
          "output_type": "execute_result",
          "data": {
            "text/plain": [
              "[[1, 2], [1, 2, 3], [1, 2], [1, 2, 4], [1, 2], [1, 2, 5]]"
            ]
          },
          "metadata": {},
          "execution_count": 5
        }
      ]
    },
    {
      "cell_type": "code",
      "source": [
        "# Padding sequences for consistent input size\n",
        "max_sequence_length = max([len(seq) for seq in input_sequences])\n",
        "input_sequences = pad_sequences(input_sequences, maxlen=max_sequence_length, padding='pre')"
      ],
      "metadata": {
        "id": "A9ikyrxMZIua"
      },
      "execution_count": null,
      "outputs": []
    },
    {
      "cell_type": "code",
      "source": [
        "input_sequences"
      ],
      "metadata": {
        "colab": {
          "base_uri": "https://localhost:8080/"
        },
        "id": "-TwXxRKPZihg",
        "outputId": "32ac351c-4093-4d23-d859-1fc16126a9cc"
      },
      "execution_count": null,
      "outputs": [
        {
          "output_type": "execute_result",
          "data": {
            "text/plain": [
              "array([[0, 1, 2],\n",
              "       [1, 2, 3],\n",
              "       [0, 1, 2],\n",
              "       [1, 2, 4],\n",
              "       [0, 1, 2],\n",
              "       [1, 2, 5]], dtype=int32)"
            ]
          },
          "metadata": {},
          "execution_count": 7
        }
      ]
    },
    {
      "cell_type": "code",
      "source": [
        " # Padding sequences for consistent input size\n",
        "max_sequence_length = max([len(seq) for seq in input_sequences])\n",
        "input_sequences = pad_sequences(input_sequences, maxlen=max_sequence_length, padding='pre')\n",
        "\n",
        " # Building a simple RNN model\n",
        "model = Sequential()\n",
        "model.add(Embedding(input_dim=total_words, output_dim=50, input_length=max_sequence_length-1))\n",
        "model.add(SimpleRNN(100, return_sequences=True))\n",
        "model.add(SimpleRNN(100))\n",
        "model.add(Dense(total_words, activation='softmax'))"
      ],
      "metadata": {
        "id": "gV-h53XObA6v"
      },
      "execution_count": null,
      "outputs": []
    },
    {
      "cell_type": "code",
      "source": [
        " # Creating input and output data\n",
        "X, y = input_sequences[:, :-1], input_sequences[:, -1]\n",
        "y = to_categorical(y, num_classes=total_words)"
      ],
      "metadata": {
        "id": "JBsR--Y5bVel"
      },
      "execution_count": null,
      "outputs": []
    },
    {
      "cell_type": "code",
      "source": [
        " # Building a simple RNN model\n",
        "model = Sequential()\n",
        "model.add(Embedding(input_dim=total_words, output_dim=50, input_length=max_sequence_length-1))\n",
        "model.add(SimpleRNN(100, return_sequences=True))\n",
        "model.add(SimpleRNN(100))\n",
        "model.add(Dense(total_words, activation='softmax'))"
      ],
      "metadata": {
        "id": "j5Eejxedba05"
      },
      "execution_count": null,
      "outputs": []
    },
    {
      "cell_type": "code",
      "source": [
        "#compile the model\n",
        "model.compile(optimizer='adam',loss='categorical_crossentropy',metrics=['accuracy'])"
      ],
      "metadata": {
        "id": "jfy1cH0RblrT"
      },
      "execution_count": null,
      "outputs": []
    },
    {
      "cell_type": "code",
      "source": [
        "#train the model\n",
        "model.fit(X,y,epochs=50,verbose=2)"
      ],
      "metadata": {
        "colab": {
          "base_uri": "https://localhost:8080/"
        },
        "id": "N9l2DsDjb2C_",
        "outputId": "20a3f6a3-6d37-491e-9a5e-37929a936c11"
      },
      "execution_count": null,
      "outputs": [
        {
          "output_type": "stream",
          "name": "stdout",
          "text": [
            "Epoch 1/50\n",
            "1/1 - 3s - loss: 1.7878 - accuracy: 0.1667 - 3s/epoch - 3s/step\n",
            "Epoch 2/50\n",
            "1/1 - 0s - loss: 1.7049 - accuracy: 0.6667 - 13ms/epoch - 13ms/step\n",
            "Epoch 3/50\n",
            "1/1 - 0s - loss: 1.6234 - accuracy: 0.6667 - 14ms/epoch - 14ms/step\n",
            "Epoch 4/50\n",
            "1/1 - 0s - loss: 1.5417 - accuracy: 0.6667 - 18ms/epoch - 18ms/step\n",
            "Epoch 5/50\n",
            "1/1 - 0s - loss: 1.4586 - accuracy: 0.6667 - 15ms/epoch - 15ms/step\n",
            "Epoch 6/50\n",
            "1/1 - 0s - loss: 1.3737 - accuracy: 0.6667 - 18ms/epoch - 18ms/step\n",
            "Epoch 7/50\n",
            "1/1 - 0s - loss: 1.2875 - accuracy: 0.6667 - 12ms/epoch - 12ms/step\n",
            "Epoch 8/50\n",
            "1/1 - 0s - loss: 1.2018 - accuracy: 0.6667 - 15ms/epoch - 15ms/step\n",
            "Epoch 9/50\n",
            "1/1 - 0s - loss: 1.1189 - accuracy: 0.6667 - 16ms/epoch - 16ms/step\n",
            "Epoch 10/50\n",
            "1/1 - 0s - loss: 1.0419 - accuracy: 0.6667 - 14ms/epoch - 14ms/step\n",
            "Epoch 11/50\n",
            "1/1 - 0s - loss: 0.9731 - accuracy: 0.6667 - 15ms/epoch - 15ms/step\n",
            "Epoch 12/50\n",
            "1/1 - 0s - loss: 0.9136 - accuracy: 0.6667 - 14ms/epoch - 14ms/step\n",
            "Epoch 13/50\n",
            "1/1 - 0s - loss: 0.8622 - accuracy: 0.6667 - 19ms/epoch - 19ms/step\n",
            "Epoch 14/50\n",
            "1/1 - 0s - loss: 0.8169 - accuracy: 0.6667 - 17ms/epoch - 17ms/step\n",
            "Epoch 15/50\n",
            "1/1 - 0s - loss: 0.7758 - accuracy: 0.6667 - 14ms/epoch - 14ms/step\n",
            "Epoch 16/50\n",
            "1/1 - 0s - loss: 0.7381 - accuracy: 0.6667 - 14ms/epoch - 14ms/step\n",
            "Epoch 17/50\n",
            "1/1 - 0s - loss: 0.7039 - accuracy: 0.6667 - 14ms/epoch - 14ms/step\n",
            "Epoch 18/50\n",
            "1/1 - 0s - loss: 0.6739 - accuracy: 0.6667 - 15ms/epoch - 15ms/step\n",
            "Epoch 19/50\n",
            "1/1 - 0s - loss: 0.6487 - accuracy: 0.6667 - 16ms/epoch - 16ms/step\n",
            "Epoch 20/50\n",
            "1/1 - 0s - loss: 0.6281 - accuracy: 0.6667 - 14ms/epoch - 14ms/step\n",
            "Epoch 21/50\n",
            "1/1 - 0s - loss: 0.6117 - accuracy: 0.6667 - 14ms/epoch - 14ms/step\n",
            "Epoch 22/50\n",
            "1/1 - 0s - loss: 0.5988 - accuracy: 0.6667 - 15ms/epoch - 15ms/step\n",
            "Epoch 23/50\n",
            "1/1 - 0s - loss: 0.5887 - accuracy: 0.6667 - 14ms/epoch - 14ms/step\n",
            "Epoch 24/50\n",
            "1/1 - 0s - loss: 0.5809 - accuracy: 0.6667 - 14ms/epoch - 14ms/step\n",
            "Epoch 25/50\n",
            "1/1 - 0s - loss: 0.5747 - accuracy: 0.6667 - 14ms/epoch - 14ms/step\n",
            "Epoch 26/50\n",
            "1/1 - 0s - loss: 0.5699 - accuracy: 0.6667 - 15ms/epoch - 15ms/step\n",
            "Epoch 27/50\n",
            "1/1 - 0s - loss: 0.5660 - accuracy: 0.6667 - 14ms/epoch - 14ms/step\n",
            "Epoch 28/50\n",
            "1/1 - 0s - loss: 0.5630 - accuracy: 0.6667 - 17ms/epoch - 17ms/step\n",
            "Epoch 29/50\n",
            "1/1 - 0s - loss: 0.5606 - accuracy: 0.6667 - 16ms/epoch - 16ms/step\n",
            "Epoch 30/50\n",
            "1/1 - 0s - loss: 0.5587 - accuracy: 0.6667 - 17ms/epoch - 17ms/step\n",
            "Epoch 31/50\n",
            "1/1 - 0s - loss: 0.5572 - accuracy: 0.6667 - 14ms/epoch - 14ms/step\n",
            "Epoch 32/50\n",
            "1/1 - 0s - loss: 0.5559 - accuracy: 0.6667 - 19ms/epoch - 19ms/step\n",
            "Epoch 33/50\n",
            "1/1 - 0s - loss: 0.5547 - accuracy: 0.6667 - 16ms/epoch - 16ms/step\n",
            "Epoch 34/50\n",
            "1/1 - 0s - loss: 0.5538 - accuracy: 0.6667 - 15ms/epoch - 15ms/step\n",
            "Epoch 35/50\n",
            "1/1 - 0s - loss: 0.5532 - accuracy: 0.6667 - 13ms/epoch - 13ms/step\n",
            "Epoch 36/50\n",
            "1/1 - 0s - loss: 0.5528 - accuracy: 0.6667 - 18ms/epoch - 18ms/step\n",
            "Epoch 37/50\n",
            "1/1 - 0s - loss: 0.5525 - accuracy: 0.6667 - 16ms/epoch - 16ms/step\n",
            "Epoch 38/50\n",
            "1/1 - 0s - loss: 0.5521 - accuracy: 0.6667 - 17ms/epoch - 17ms/step\n",
            "Epoch 39/50\n",
            "1/1 - 0s - loss: 0.5517 - accuracy: 0.6667 - 15ms/epoch - 15ms/step\n",
            "Epoch 40/50\n",
            "1/1 - 0s - loss: 0.5513 - accuracy: 0.6667 - 13ms/epoch - 13ms/step\n",
            "Epoch 41/50\n",
            "1/1 - 0s - loss: 0.5511 - accuracy: 0.6667 - 16ms/epoch - 16ms/step\n",
            "Epoch 42/50\n",
            "1/1 - 0s - loss: 0.5511 - accuracy: 0.6667 - 15ms/epoch - 15ms/step\n",
            "Epoch 43/50\n",
            "1/1 - 0s - loss: 0.5510 - accuracy: 0.6667 - 14ms/epoch - 14ms/step\n",
            "Epoch 44/50\n",
            "1/1 - 0s - loss: 0.5508 - accuracy: 0.6667 - 14ms/epoch - 14ms/step\n",
            "Epoch 45/50\n",
            "1/1 - 0s - loss: 0.5506 - accuracy: 0.6667 - 19ms/epoch - 19ms/step\n",
            "Epoch 46/50\n",
            "1/1 - 0s - loss: 0.5505 - accuracy: 0.6667 - 18ms/epoch - 18ms/step\n",
            "Epoch 47/50\n",
            "1/1 - 0s - loss: 0.5504 - accuracy: 0.6667 - 16ms/epoch - 16ms/step\n",
            "Epoch 48/50\n",
            "1/1 - 0s - loss: 0.5504 - accuracy: 0.6667 - 17ms/epoch - 17ms/step\n",
            "Epoch 49/50\n",
            "1/1 - 0s - loss: 0.5504 - accuracy: 0.6667 - 15ms/epoch - 15ms/step\n",
            "Epoch 50/50\n",
            "1/1 - 0s - loss: 0.5503 - accuracy: 0.6667 - 15ms/epoch - 15ms/step\n"
          ]
        },
        {
          "output_type": "execute_result",
          "data": {
            "text/plain": [
              "<keras.src.callbacks.History at 0x79a27b741ff0>"
            ]
          },
          "metadata": {},
          "execution_count": 12
        }
      ]
    },
    {
      "cell_type": "code",
      "source": [
        "\n",
        "# Generating text using the trained model\n",
        "seed_text = input(\"Enter the starting word: \")\n",
        "next_words = int(input(\"Enter how many words to predict: \"))\n",
        "\n",
        "for _ in range(next_words):\n",
        "    tokenized_seed = tokenizer.texts_to_sequences([seed_text])[0]\n",
        "    tokenized_seed = pad_sequences([tokenized_seed], maxlen=max_sequence_length-1, padding='pre')\n",
        "    predicted_word_index = np.argmax(model.predict(tokenized_seed), axis=-1)\n",
        "    predicted_word = tokenizer.index_word[predicted_word_index[0]]\n",
        "    seed_text += \" \" + predicted_word\n",
        "\n",
        "print(seed_text)"
      ],
      "metadata": {
        "colab": {
          "base_uri": "https://localhost:8080/"
        },
        "id": "ULLuqOBlcCZf",
        "outputId": "47ac19ab-e48a-4033-c48e-e86fdcce318f"
      },
      "execution_count": null,
      "outputs": [
        {
          "output_type": "stream",
          "name": "stdout",
          "text": [
            "Enter the starting word: me\n",
            "Enter how many words to predict: 5\n",
            "1/1 [==============================] - 0s 468ms/step\n",
            "1/1 [==============================] - 0s 58ms/step\n",
            "1/1 [==============================] - 0s 33ms/step\n",
            "1/1 [==============================] - 0s 42ms/step\n",
            "1/1 [==============================] - 0s 39ms/step\n",
            "me love uma love uma love\n"
          ]
        }
      ]
    }
  ]
}