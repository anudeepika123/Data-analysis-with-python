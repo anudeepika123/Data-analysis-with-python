{
  "nbformat": 4,
  "nbformat_minor": 0,
  "metadata": {
    "colab": {
      "provenance": []
    },
    "kernelspec": {
      "name": "python3",
      "display_name": "Python 3"
    },
    "language_info": {
      "name": "python"
    }
  },
  "cells": [
    {
      "cell_type": "code",
      "execution_count": null,
      "metadata": {
        "colab": {
          "base_uri": "https://localhost:8080/"
        },
        "id": "00LNG595PEYA",
        "outputId": "2b6a4e56-c80a-4cb0-e638-b07ef287e746"
      },
      "outputs": [
        {
          "output_type": "stream",
          "name": "stdout",
          "text": [
            "enter city:njuu\n",
            "njuu\n",
            "{'error': {'code': 1006, 'message': 'No matching location found.'}}\n",
            "error\n"
          ]
        }
      ],
      "source": [
        "import requests\n",
        "api_key='1212c0c258f2487baed53704242802'\n",
        "city=input(\"enter city:\")\n",
        "print(city)\n",
        "url=f\"http://api.weatherapi.com/v1/current.json?key={api_key}&q={city}\"\n",
        "response=requests.get(url)\n",
        "data=response.json()\n",
        "print(data)\n",
        "if response.status_code==200:\n",
        "  print(\"wind speed:\",data['current']['wind_mph'])\n",
        "  print(\"humidity:\",data['current']['humidity'])\n",
        "  print(\"feelslike_c:\",data['current']['feelslike_c'])\n",
        "  print(\"wind_dir:\",data['current']['wind_dir'])\n",
        "  print(\"state:\",data['location']['region'])\n",
        "  print(\"country:\",data['location']['country'])\n",
        "  print(\"temperature:\",data['current']['temp_c'])\n",
        "else:\n",
        "    print(\"error\")"
      ]
    },
    {
      "cell_type": "code",
      "source": [
        "#check the type of the data\n",
        "type(data)"
      ],
      "metadata": {
        "colab": {
          "base_uri": "https://localhost:8080/"
        },
        "id": "GRLbxniRRrAC",
        "outputId": "e4da3f7d-3ede-48b4-b4f6-82a9782ff93d"
      },
      "execution_count": null,
      "outputs": [
        {
          "output_type": "execute_result",
          "data": {
            "text/plain": [
              "dict"
            ]
          },
          "metadata": {},
          "execution_count": 8
        }
      ]
    },
    {
      "cell_type": "code",
      "source": [
        "print(\"city:\",data['location']['name'])"
      ],
      "metadata": {
        "colab": {
          "base_uri": "https://localhost:8080/"
        },
        "id": "9tG3YmUxR3he",
        "outputId": "d14c533c-62b6-4059-a9be-77a6eaf941a1"
      },
      "execution_count": null,
      "outputs": [
        {
          "output_type": "stream",
          "name": "stdout",
          "text": [
            "city: Chennai\n"
          ]
        }
      ]
    },
    {
      "cell_type": "code",
      "source": [
        "#city:name,state:region,country:country,temp:in deg celsius\n",
        "print(\"state:\",data['location']['region'])\n",
        "print(\"country:\",data['location']['country'])\n",
        "print(\"temperature:\",data['current']['temp_c'])\n",
        "city=input(\"enter city:\")\n",
        "print(city)\n",
        "\n",
        "print(\"wind speed:\",data['current']['wind_mph'])\n",
        "print(\"humidity:\",data['current']['humidity'])\n",
        "print(\"feelslike_c:\",data['current']['feelslike_c'])\n",
        "print(\"wind_dir:\",data['current']['wind_dir'])"
      ],
      "metadata": {
        "colab": {
          "base_uri": "https://localhost:8080/"
        },
        "id": "IegpQtwpSMJX",
        "outputId": "3f138092-d555-449f-8f7d-080ffec3035a"
      },
      "execution_count": null,
      "outputs": [
        {
          "output_type": "stream",
          "name": "stdout",
          "text": [
            "state: Tamil Nadu\n",
            "country: India\n",
            "temperature: 31.0\n",
            "enter city:tanuku\n",
            "tanuku\n",
            "wind speed: 9.4\n",
            "humidity: 66\n",
            "feelslike_c: 34.3\n",
            "wind_dir: ENE\n"
          ]
        }
      ]
    },
    {
      "cell_type": "code",
      "source": [
        "city=input(\"enter city:\")\n",
        "print(city)"
      ],
      "metadata": {
        "colab": {
          "base_uri": "https://localhost:8080/"
        },
        "id": "BTsK7QUIVT4z",
        "outputId": "f5684cfd-bc42-419e-9f0f-2ae6edeaeb8f"
      },
      "execution_count": null,
      "outputs": [
        {
          "output_type": "stream",
          "name": "stdout",
          "text": [
            "enter city:tanuku\n",
            "tanuku\n"
          ]
        }
      ]
    }
  ]
}